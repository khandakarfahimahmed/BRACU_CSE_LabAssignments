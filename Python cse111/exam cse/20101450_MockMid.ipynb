{
 "cells": [
  {
   "cell_type": "code",
   "execution_count": null,
   "metadata": {},
   "outputs": [],
   "source": []
  },
  {
   "cell_type": "code",
   "execution_count": 1,
   "metadata": {},
   "outputs": [
    {
     "name": "stdout",
     "output_type": "stream",
     "text": [
      "Enter input: WEloVeCsE111\n",
      "Number of lower case letters: 4\n"
     ]
    }
   ],
   "source": [
    "a = input(\"Enter input: \")\n",
    "letters= [\"a\",\"b\",\"c\",\"d\",\"e\",\"f\",\"g\",\"h\",\"i\",\"j\",\"k\",\"l\",\"m\",\"n\",\"o\",\"p\",\"q\",\"r\",\"s\",\"t\",\"u\",\"v\",\"w\",\"x\",\"y\",\"z\"]\n",
    "c = 0\n",
    "for i in a:\n",
    "    if i in letters:\n",
    "        c+=1\n",
    "print(\"Number of lower case letters:\",c)"
   ]
  },
  {
   "cell_type": "code",
   "execution_count": 2,
   "metadata": {},
   "outputs": [
    {
     "name": "stdout",
     "output_type": "stream",
     "text": [
      "Enter a integer: 31\n",
      "Prime\n"
     ]
    }
   ],
   "source": [
    "def primeCheck (a):\n",
    "    if a<=1:\n",
    "        print(\"Not prime\")\n",
    "    else:\n",
    "        for i in range(2,a):\n",
    "            if a==1:\n",
    "                print(\"Not prime\")\n",
    "            elif a%i==0:\n",
    "                print(\"Not prime\")\n",
    "                break\n",
    "        else:\n",
    "            print(\"Prime\")\n",
    "a = int (input(\"Enter a integer: \"))\n",
    "primeCheck(a)"
   ]
  },
  {
   "cell_type": "code",
   "execution_count": 7,
   "metadata": {},
   "outputs": [
    {
     "name": "stdout",
     "output_type": "stream",
     "text": [
      "Enter input: W,79,V,84,U,63,Y,54,X,91\n",
      "['U', '63', 'V', '84', 'W', '79', 'X', '91', 'Y', '54']\n"
     ]
    }
   ],
   "source": [
    "a = input(\"Enter input: \")\n",
    "sp = a.split(\",\")\n",
    "new_list = []\n",
    "name = sp[::2]\n",
    "number = sp[1::2]\n",
    "l = len(name)\n",
    "i=0\n",
    "while (i<l):\n",
    "    small=name[i]\n",
    "    j=i\n",
    "    while(j<l):\n",
    "\n",
    "        if name[j]<small:\n",
    "            temp = name[j]\n",
    "            name[j]=name[i]\n",
    "            name[i]=temp\n",
    "            temp = number[j]\n",
    "            number[j]=number[i]\n",
    "            number[i]=temp\n",
    "        j+=1\n",
    "    i+=1\n",
    "j=0\n",
    "while j<l:\n",
    "    new_list.append(name[j])\n",
    "    new_list.append(number[j])\n",
    "    j+=1\n",
    "print(new_list)"
   ]
  },
  {
   "cell_type": "code",
   "execution_count": null,
   "metadata": {},
   "outputs": [],
   "source": []
  }
 ],
 "metadata": {
  "kernelspec": {
   "display_name": "Python 3",
   "language": "python",
   "name": "python3"
  },
  "language_info": {
   "codemirror_mode": {
    "name": "ipython",
    "version": 3
   },
   "file_extension": ".py",
   "mimetype": "text/x-python",
   "name": "python",
   "nbconvert_exporter": "python",
   "pygments_lexer": "ipython3",
   "version": "3.8.3"
  }
 },
 "nbformat": 4,
 "nbformat_minor": 4
}
